{
 "cells": [
  {
   "cell_type": "markdown",
   "id": "b50635c9",
   "metadata": {},
   "source": [
    "What are the two values of the Boolean data type? How do you write them?\n",
    "2. What are the three different types of Boolean operators?\n",
    "3. Make a list of each Boolean operator's truth tables (i.e. every possible combination of Boolean values for the operator and what it evaluate ).\n",
    "4. What are the values of the following expressions?\n",
    "(5 > 4) and (3 == 5)\n",
    "not (5 > 4)\n",
    "(5 > 4) or (3 == 5)\n",
    "not ((5 > 4) or (3 == 5))\n",
    "(True and True) and (True == False)\n",
    "(not False) or (not True)\n",
    "5. What are the six comparison operators?\n",
    "6. How do you tell the difference between the equal to and assignment operators?Describe a condition and when you would use one.\n",
    "7. Identify the three blocks in this code:\n",
    "spam = 0\n",
    "if spam == 10:\n",
    "print('eggs')\n",
    "if spam > 5:\n",
    "print('bacon')\n",
    "else:\n",
    "print('ham')\n",
    "print('spam')\n",
    "print('spam')\n",
    "8. Write code that prints Hello if 1 is stored in spam, prints Howdy if 2 is stored in spam, and prints Greetings! if anything else is stored in spam.\n",
    "9.If your programme is stuck in an endless loop, what keys you’ll press?\n",
    "10. How can you tell the difference between break and continue?\n",
    "11. In a for loop, what is the difference between range(10), range(0, 10), and range(0, 10, 1)?\n",
    "12. Write a short program that prints the numbers 1 to 10 using a for loop. Then write an equivalent program that prints the numbers 1 to 10 using a while loop.\n",
    "13. If you had a function named bacon() inside a module named spam, how would you call it after importing spam?"
   ]
  },
  {
   "cell_type": "code",
   "execution_count": null,
   "id": "80d60790",
   "metadata": {},
   "outputs": [],
   "source": [
    "1 ans:True and False,using capital T and F"
   ]
  },
  {
   "cell_type": "code",
   "execution_count": null,
   "id": "927ca765",
   "metadata": {},
   "outputs": [],
   "source": [
    "2 ans:The three different types of boolean operators are:and,or,and not"
   ]
  },
  {
   "cell_type": "code",
   "execution_count": null,
   "id": "d81ff610",
   "metadata": {},
   "outputs": [],
   "source": [
    "3 ans:True and True is True\n",
    "     True and False is False\n",
    "    False and True is False\n",
    "    False and False is False\n",
    "    True or True is True\n",
    "    True or False is True\n",
    "    False or True is True\n",
    "    False or False is False\n",
    "    not True is False\n",
    "    not False is True\n",
    "    True is 1 and False is 0\n",
    "    Truth table for And\n",
    "    A B Output\n",
    "    1 1 1\n",
    "    1 0 0\n",
    "    0 1 0\n",
    "    0 0 0\n",
    "    Truth table for OR\n",
    "    A B Output\n",
    "    1 1 1\n",
    "    1 0 1\n",
    "    0 1 1\n",
    "    0 0 0\n",
    "    Truth table for Not\n",
    "    A Output\n",
    "    0 1\n",
    "    1 0"
   ]
  },
  {
   "cell_type": "markdown",
   "id": "7c31d4d5",
   "metadata": {},
   "source": [
    "4 ans:"
   ]
  },
  {
   "cell_type": "code",
   "execution_count": 19,
   "id": "be7a1249",
   "metadata": {},
   "outputs": [
    {
     "name": "stdout",
     "output_type": "stream",
     "text": [
      "False\n",
      "False\n",
      "True\n",
      "False\n",
      "False\n",
      "True\n"
     ]
    }
   ],
   "source": [
    "print((5>4)and(3==5))\n",
    "print(not(5>4))\n",
    "print((5>4)or(3==5))\n",
    "print(not(5>4)or(3==5))\n",
    "print((True and True)and(True==False))\n",
    "print((not False)or(not True))"
   ]
  },
  {
   "cell_type": "markdown",
   "id": "d86db516",
   "metadata": {},
   "source": [
    "5 ans:==,!=,<,>,<=,and >="
   ]
  },
  {
   "cell_type": "markdown",
   "id": "1cdd4892",
   "metadata": {},
   "source": [
    "6 ans:==is the equal to operator that compares two values and evaluates to a boolean,while=is the assignment operator that stores a value in a variable.A condition is an expression used in a flow control statement that evaluates eo a boolean value.ex#:"
   ]
  },
  {
   "cell_type": "code",
   "execution_count": 26,
   "id": "ec9e57d1",
   "metadata": {},
   "outputs": [
    {
     "name": "stdout",
     "output_type": "stream",
     "text": [
      "False\n",
      "c= 2\n"
     ]
    }
   ],
   "source": [
    "if(3==4):\n",
    "    print(\"True\")\n",
    "else:\n",
    "    print(\"False\")\n",
    "c=2\n",
    "print(\"c=\",c)"
   ]
  },
  {
   "cell_type": "markdown",
   "id": "f3756ead",
   "metadata": {},
   "source": [
    "7 ans:The three blocks are everything inside the if statement and the lines print('bacon')and print('ham')."
   ]
  },
  {
   "cell_type": "code",
   "execution_count": 27,
   "id": "5ed7c322",
   "metadata": {},
   "outputs": [
    {
     "name": "stdout",
     "output_type": "stream",
     "text": [
      "ham\n",
      "spam\n",
      "spam\n"
     ]
    }
   ],
   "source": [
    "spam=0\n",
    "if spam==10:\n",
    "    print('eggs')\n",
    "if spam>5:\n",
    "    print('bacon')\n",
    "else:\n",
    "    print('ham')\n",
    "    print('spam')\n",
    "    print('spam')"
   ]
  },
  {
   "cell_type": "markdown",
   "id": "f2662fb0",
   "metadata": {},
   "source": [
    "8 ans:"
   ]
  },
  {
   "cell_type": "code",
   "execution_count": 29,
   "id": "7e0f2fd9",
   "metadata": {},
   "outputs": [
    {
     "name": "stdout",
     "output_type": "stream",
     "text": [
      "Greetings\n"
     ]
    }
   ],
   "source": [
    "if spam==1:\n",
    "    print(\"Hello\")\n",
    "elif spam==2:\n",
    "    print(\"Howdy\")\n",
    "else:\n",
    "    print(\"Greetings\")"
   ]
  },
  {
   "cell_type": "markdown",
   "id": "9bbd5513",
   "metadata": {},
   "source": [
    "9 ans:Press CTRL-C to stop a program stuck in endless loop."
   ]
  },
  {
   "cell_type": "markdown",
   "id": "635cf123",
   "metadata": {},
   "source": [
    "10 ans:The break statement will move the execution outside and just after a loop. The continue statement will move the execution to the start of the loop."
   ]
  },
  {
   "cell_type": "code",
   "execution_count": 31,
   "id": "a58e6f5e",
   "metadata": {},
   "outputs": [
    {
     "name": "stdout",
     "output_type": "stream",
     "text": [
      "0\n",
      "1\n",
      "2\n",
      "3\n",
      "4\n",
      "5\n",
      "6\n"
     ]
    }
   ],
   "source": [
    "for i in range(10):\n",
    "    if(i==7):\n",
    "        break\n",
    "    print(i)"
   ]
  },
  {
   "cell_type": "code",
   "execution_count": 32,
   "id": "eea79df3",
   "metadata": {},
   "outputs": [
    {
     "name": "stdout",
     "output_type": "stream",
     "text": [
      "0\n",
      "1\n",
      "2\n",
      "3\n",
      "4\n",
      "5\n",
      "6\n",
      "8\n",
      "9\n"
     ]
    }
   ],
   "source": [
    "for i in range(10):\n",
    "    if(i==7):\n",
    "        continue\n",
    "    print(i)"
   ]
  },
  {
   "cell_type": "markdown",
   "id": "876729c0",
   "metadata": {},
   "source": [
    "11 ans:They all do the samething. The range(10) call ranges from 0 up to (but not including) 10, range(0, 10) explicitly tells the loop to start at 0, and range(0, 10, 1) explicitly tells the loop to increase the variable by 1 on each iteration."
   ]
  },
  {
   "cell_type": "code",
   "execution_count": 45,
   "id": "19baa8a2",
   "metadata": {},
   "outputs": [
    {
     "name": "stdout",
     "output_type": "stream",
     "text": [
      "0\n",
      "1\n",
      "2\n",
      "3\n",
      "4\n",
      "5\n",
      "6\n",
      "7\n",
      "8\n",
      "9\n"
     ]
    }
   ],
   "source": [
    "for i in range(10):\n",
    "    print(i)"
   ]
  },
  {
   "cell_type": "code",
   "execution_count": 41,
   "id": "6b1ed25f",
   "metadata": {},
   "outputs": [
    {
     "name": "stdout",
     "output_type": "stream",
     "text": [
      "0\n",
      "1\n",
      "2\n",
      "3\n",
      "4\n",
      "5\n",
      "6\n",
      "7\n",
      "8\n",
      "9\n"
     ]
    }
   ],
   "source": [
    "for i in range(0,10):\n",
    "    print(i)"
   ]
  },
  {
   "cell_type": "code",
   "execution_count": 44,
   "id": "cb9261b9",
   "metadata": {},
   "outputs": [
    {
     "name": "stdout",
     "output_type": "stream",
     "text": [
      "0\n",
      "1\n",
      "2\n",
      "3\n",
      "4\n",
      "5\n",
      "6\n",
      "7\n",
      "8\n",
      "9\n"
     ]
    }
   ],
   "source": [
    "for i in range(0,10,1):\n",
    "    print(i)"
   ]
  },
  {
   "cell_type": "markdown",
   "id": "f41df833",
   "metadata": {},
   "source": [
    "12 ans:"
   ]
  },
  {
   "cell_type": "code",
   "execution_count": 46,
   "id": "37d8c4b1",
   "metadata": {},
   "outputs": [
    {
     "name": "stdout",
     "output_type": "stream",
     "text": [
      "1\n",
      "2\n",
      "3\n",
      "4\n",
      "5\n",
      "6\n",
      "7\n",
      "8\n",
      "9\n",
      "10\n"
     ]
    }
   ],
   "source": [
    "for i in range(1, 11):\n",
    "    print(i)"
   ]
  },
  {
   "cell_type": "code",
   "execution_count": 47,
   "id": "ea33d0ac",
   "metadata": {},
   "outputs": [
    {
     "name": "stdout",
     "output_type": "stream",
     "text": [
      "1\n",
      "2\n",
      "3\n",
      "4\n",
      "5\n",
      "6\n",
      "7\n",
      "8\n",
      "9\n",
      "10\n"
     ]
    }
   ],
   "source": [
    "i = 1\n",
    "while i <= 10:\n",
    "    print(i)\n",
    "    i = i + 1"
   ]
  },
  {
   "cell_type": "markdown",
   "id": "58444f6e",
   "metadata": {},
   "source": [
    "13 ans:This function can be called with spam.bacon()."
   ]
  }
 ],
 "metadata": {
  "kernelspec": {
   "display_name": "Python 3 (ipykernel)",
   "language": "python",
   "name": "python3"
  },
  "language_info": {
   "codemirror_mode": {
    "name": "ipython",
    "version": 3
   },
   "file_extension": ".py",
   "mimetype": "text/x-python",
   "name": "python",
   "nbconvert_exporter": "python",
   "pygments_lexer": "ipython3",
   "version": "3.9.12"
  }
 },
 "nbformat": 4,
 "nbformat_minor": 5
}
